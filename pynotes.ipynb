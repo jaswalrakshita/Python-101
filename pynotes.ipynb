{
 "cells": [
  {
   "cell_type": "code",
   "execution_count": 16,
   "metadata": {},
   "outputs": [
    {
     "name": "stdout",
     "output_type": "stream",
     "text": [
      "2\n",
      "4\n"
     ]
    }
   ],
   "source": [
    "'''tuple'''\n",
    "t = (1) #wrong way\n",
    "t = (1, ) # tuple with single element\n",
    "print(t)\n",
    "\n",
    "t1 = (1,2,3,4,5,6,6)\n",
    "print(t1.count(6))\n",
    "print(t1.index(5))\n"
   ]
  },
  {
   "cell_type": "code",
   "execution_count": 10,
   "metadata": {},
   "outputs": [
    {
     "name": "stdout",
     "output_type": "stream",
     "text": [
      "[34, 13, 28]\n"
     ]
    }
   ],
   "source": [
    "l1 = [1,34,55,13,28]\n",
    "# l1.sort()\n",
    "# l1.reverse()\n",
    "# l1.remove(1)\n",
    "# l1.append(0)\n",
    "# l1.insert(2, 100)\n",
    "l1.pop(2) # --> removes element at index 2\n",
    "l1.remove(1) # --> removes element 1\n",
    "print(l1)"
   ]
  },
  {
   "cell_type": "code",
   "execution_count": 37,
   "metadata": {},
   "outputs": [
    {
     "name": "stdout",
     "output_type": "stream",
     "text": [
      "[1, 4, 3, 2, 2]\n",
      "singer\n",
      "you\n",
      "<class 'dict_keys'>\n",
      "['hello', 'rikhari', 'songs', 'dic2', 1]\n",
      "dict_values(['Hiiiii', 'singer', [1, 4, 3, 2, 2], {'me': 'you'}, 2])\n",
      "dict_items([('hello', 'Hiiiii'), ('rikhari', 'singer'), ('songs', [1, 4, 3, 2, 2]), ('dic2', {'me': 'you'}), (1, 2)])\n",
      "{'hello': 'Hiiiii', 'rikhari': 'singer', 'songs': [1, 4, 3, 2, 2], 'dic2': {'me': 'you'}, 1: 2, 'update': 'value'}\n",
      "singer\n"
     ]
    }
   ],
   "source": [
    "'''dictionary'''\n",
    "\n",
    "dic1 = {\n",
    "    \"hello\" : \"Hiiiii\",\n",
    "    \"rikhari\" : \"singer\",\n",
    "    \"songs\" : [1,4,3,2,2],\n",
    "    \"dic2\" : {\n",
    "        'me' : 'you',\n",
    "        \n",
    "    },\n",
    "    1:2\n",
    "}\n",
    "dic1[\"songs\"] = [13] # mutable\n",
    "print(dic1[\"songs\"])\n",
    "print(dic1['rikhari'])\n",
    "print(dic1['dic2']['me'])\n",
    "\n",
    "\n",
    "'''methods'''\n",
    "print(type(dic1.keys()))\n",
    "print(list(dic1.keys())) #convert to list\n",
    "print(dic1.values())\n",
    "print(dic1.items()) #prints key/value or contents of dictonary\n",
    "update = {\n",
    "    \"update\" :  \"value\"\n",
    "}\n",
    "\n",
    "dic1.update(update)\n",
    "print(dic1)\n",
    "\n",
    "print(dic1.get(\"rikhari\"))"
   ]
  },
  {
   "cell_type": "code",
   "execution_count": 49,
   "metadata": {},
   "outputs": [
    {
     "name": "stdout",
     "output_type": "stream",
     "text": [
      "<class 'set'>\n",
      "{1, 2, 3, 4, 5, 6}\n",
      "{}\n",
      "{(1, 2, 3), 4, 7}\n",
      "3\n"
     ]
    }
   ],
   "source": [
    "'''set'''\n",
    "\n",
    "s = {1,2,3,4,5,5,6,6}\n",
    "print(type(s))\n",
    "print(s) # non repetetive\n",
    "\n",
    "a = {} # empty dictionary syntax\n",
    "b =  set() # empty set syntax\n",
    "print(a)\n",
    "\n",
    "\n",
    "\n",
    "b.add(4)\n",
    "b.add(7)\n",
    "b.add((1,2,3)) #{(1, 2, 3), 4, 7} we can add tuples to set\n",
    "# b.add([1,2,3]) # error : unhashable type: 'list' as we cannot add list to set \n",
    "#b.add({4:4}) # dictionary bhi add nhi kr skte\n",
    "print(b)\n",
    "\n",
    "# print(len(b)), removee, pop"
   ]
  },
  {
   "cell_type": "code",
   "execution_count": 1,
   "metadata": {},
   "outputs": [
    {
     "name": "stdout",
     "output_type": "stream",
     "text": [
      "options are dict_keys(['kitaab', 'gaana', 'pankha'])\n"
     ]
    },
    {
     "name": "stdout",
     "output_type": "stream",
     "text": [
      "meaning is:  fan\n",
      "meaning is:  fan\n"
     ]
    },
    {
     "ename": "ValueError",
     "evalue": "invalid literal for int() with base 10: ''",
     "output_type": "error",
     "traceback": [
      "\u001b[1;31m---------------------------------------------------------------------------\u001b[0m",
      "\u001b[1;31mValueError\u001b[0m                                Traceback (most recent call last)",
      "Cell \u001b[1;32mIn[1], line 15\u001b[0m\n\u001b[0;32m     11\u001b[0m \u001b[38;5;28mprint\u001b[39m(\u001b[38;5;124m\"\u001b[39m\u001b[38;5;124mmeaning is: \u001b[39m\u001b[38;5;124m\"\u001b[39m, mydict\u001b[38;5;241m.\u001b[39mget(a))\n\u001b[0;32m     12\u001b[0m \u001b[38;5;28mprint\u001b[39m(\u001b[38;5;124m\"\u001b[39m\u001b[38;5;124mmeaning is: \u001b[39m\u001b[38;5;124m\"\u001b[39m, mydict[a])\n\u001b[1;32m---> 15\u001b[0m num1 \u001b[38;5;241m=\u001b[39m \u001b[38;5;28;43mint\u001b[39;49m\u001b[43m(\u001b[49m\u001b[38;5;28;43minput\u001b[39;49m\u001b[43m(\u001b[49m\u001b[38;5;124;43m\"\u001b[39;49m\u001b[38;5;124;43mENter num1: \u001b[39;49m\u001b[38;5;124;43m\"\u001b[39;49m\u001b[43m)\u001b[49m\u001b[43m)\u001b[49m\n\u001b[0;32m     16\u001b[0m num2 \u001b[38;5;241m=\u001b[39m \u001b[38;5;28mint\u001b[39m(\u001b[38;5;28minput\u001b[39m(\u001b[38;5;124m\"\u001b[39m\u001b[38;5;124mENter num2: \u001b[39m\u001b[38;5;124m\"\u001b[39m))\n\u001b[0;32m     17\u001b[0m num3 \u001b[38;5;241m=\u001b[39m \u001b[38;5;28mint\u001b[39m(\u001b[38;5;28minput\u001b[39m(\u001b[38;5;124m\"\u001b[39m\u001b[38;5;124mENter num3: \u001b[39m\u001b[38;5;124m\"\u001b[39m))\n",
      "\u001b[1;31mValueError\u001b[0m: invalid literal for int() with base 10: ''"
     ]
    }
   ],
   "source": [
    "'''practice'''\n",
    "\n",
    "\n",
    "mydict = {\n",
    "    \"kitaab\" : \"book\",\n",
    "    \"gaana\" : \"song\",\n",
    "    \"pankha\" : \"fan\"\n",
    "}\n",
    "print(\"options are\", mydict.keys())\n",
    "a = input(\"enter the hindi word\\n\")\n",
    "print(\"meaning is: \", mydict.get(a))\n",
    "print(\"meaning is: \", mydict[a])\n",
    "\n",
    "\n",
    "num1 = int(input(\"ENter num1: \"))\n",
    "num2 = int(input(\"ENter num2: \"))\n",
    "num3 = int(input(\"ENter num3: \"))\n",
    "num4 = int(input(\"ENter num4: \"))\n",
    "num5 = int(input(\"ENter num5: \"))\n",
    "num6 = int(input(\"ENter num6: \"))\n",
    "num7 = int(input(\"ENter num7: \"))\n",
    "num8 = int(input(\"ENter num8: \"))\n",
    "\n",
    "s ={num1,num2,num3,num4,num5,num6,num7,num8}\n",
    "print(s)\n",
    "\n"
   ]
  },
  {
   "cell_type": "code",
   "execution_count": 67,
   "metadata": {},
   "outputs": [],
   "source": [
    "# a = 22\n",
    "\n",
    "# if(a>23):\n",
    "#     print(\"greater\")\n",
    "# if(a>1):\n",
    "#     print(\"not greater\")\n",
    "# if(a>24):\n",
    "#     print(\"yes\")\n",
    "# else:\n",
    "#     print(\"lesser\")\n",
    "\n",
    "# a = int(input(\"Enter the age: \"))\n",
    "\n",
    "# if a >= 18:\n",
    "#     print(\"yes\")\n",
    "# else:\n",
    "#     print(\"lesser\")\n"
   ]
  },
  {
   "cell_type": "code",
   "execution_count": 77,
   "metadata": {},
   "outputs": [
    {
     "name": "stdout",
     "output_type": "stream",
     "text": [
      "27\n"
     ]
    }
   ],
   "source": [
    "#function\n",
    "\n",
    "# def sayhi():\n",
    "#     print(\"heellooo\")\n",
    "\n",
    "# print(\"top\")\n",
    "# sayhi()\n",
    "# print(\"bottom\")\n",
    "\n",
    "\n",
    "# def sayhi(name, age):\n",
    "#     print(\"heellooo \" + name + age)\n",
    "\n",
    "\n",
    "# sayhi(\"mike\", \"23\")\n",
    "\n",
    "\n",
    "# def cube(num):\n",
    "#     return num*num*num\n",
    "\n",
    "# result = cube(3)\n",
    "# print(result)\n"
   ]
  },
  {
   "cell_type": "code",
   "execution_count": 83,
   "metadata": {},
   "outputs": [
    {
     "name": "stdout",
     "output_type": "stream",
     "text": [
      "kkk\n",
      "uuu\n",
      "yyy\n"
     ]
    }
   ],
   "source": [
    "#loops\n",
    "\n",
    "# i = 2 \n",
    "\n",
    "# while (i<=10):\n",
    "#     print(i)\n",
    "#     i += 1\n",
    "# print(\"done\")\n",
    "\n",
    "hello = [\"kkk\", \"uuu\", \"yyy\"]\n",
    "for letter in hello:\n",
    "    print(letter)"
   ]
  },
  {
   "cell_type": "code",
   "execution_count": 84,
   "metadata": {},
   "outputs": [
    {
     "name": "stdout",
     "output_type": "stream",
     "text": [
      "8\n"
     ]
    }
   ],
   "source": [
    "'''exponent func'''\n",
    "\n",
    "\n",
    "def power_no(base_no, power):\n",
    "    result = 1\n",
    "    for index in range(power):\n",
    "        result = result * base_no\n",
    "    return result\n",
    "\n",
    "print(power_no(2,3))"
   ]
  },
  {
   "cell_type": "code",
   "execution_count": 88,
   "metadata": {},
   "outputs": [
    {
     "name": "stdout",
     "output_type": "stream",
     "text": [
      "1\n",
      "2\n",
      "3\n",
      "4\n",
      "5\n",
      "6\n",
      "7\n",
      "8\n",
      "9\n",
      "0\n"
     ]
    }
   ],
   "source": [
    "'''2d list'''\n",
    "\n",
    "grid = [\n",
    "    [1,2,3],\n",
    "    [4,5,6],\n",
    "    [7,8,9],\n",
    "    [0]\n",
    "]\n",
    "\n",
    "# print(grid[1][2])\n",
    "for row in grid:\n",
    "    for col in row:\n",
    "        print(col)"
   ]
  },
  {
   "cell_type": "code",
   "execution_count": 89,
   "metadata": {},
   "outputs": [
    {
     "name": "stdout",
     "output_type": "stream",
     "text": [
      "invalid\n"
     ]
    }
   ],
   "source": [
    "'''tryandexcept'''\n",
    "\n",
    "\n",
    "try:\n",
    "    number = int(input(\"enter a num: \"))\n",
    "    print(number)\n",
    "\n",
    "except:\n",
    "    print(\"invalid\")"
   ]
  },
  {
   "cell_type": "code",
   "execution_count": null,
   "metadata": {},
   "outputs": [],
   "source": []
  }
 ],
 "metadata": {
  "kernelspec": {
   "display_name": "Python 3",
   "language": "python",
   "name": "python3"
  },
  "language_info": {
   "codemirror_mode": {
    "name": "ipython",
    "version": 3
   },
   "file_extension": ".py",
   "mimetype": "text/x-python",
   "name": "python",
   "nbconvert_exporter": "python",
   "pygments_lexer": "ipython3",
   "version": "3.12.6"
  }
 },
 "nbformat": 4,
 "nbformat_minor": 2
}
